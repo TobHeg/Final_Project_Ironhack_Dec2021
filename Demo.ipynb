{
 "cells": [
  {
   "cell_type": "code",
   "execution_count": 29,
   "metadata": {},
   "outputs": [],
   "source": [
    "import pywebio\n",
    "import pickle\n",
    "import numpy as np\n",
    "import pandas as pd\n",
    "import logging\n",
    "import re\n",
    "from bs4 import BeautifulSoup\n",
    "logger = logging.getLogger(\"spacy\")\n",
    "logger.setLevel(logging.ERROR)\n",
    "\n",
    "with open('variables.pkl', 'rb') as file:\n",
    "      \n",
    "    # create new variables from the pickle file\n",
    "    nlp,stop_words,tfidf,pac = pickle.load(file)\n",
    "\n",
    "\n",
    "def lemmatize(text):\n",
    "    \"\"\"Perform lemmatization and stopword removal in the clean text\n",
    "       Returns a list of lemmas\n",
    "    \"\"\"\n",
    "    doc = nlp(text)\n",
    "    lemma_list = \" \".join([str(tok.lemma_).lower() for tok in doc])\n",
    "                  #if tok.is_alpha and tok.text.lower() not in stop_words])\n",
    "    return lemma_list\n",
    "\n",
    "def clean_article(x):\n",
    "    x = str(x).lower().replace(\"\\\\\",\" \").replace(\"_\",\" \")\n",
    "    x = re.sub(r\"(W|w)on(\\'|\\’)t \", \"will not \", x)\n",
    "    x = re.sub(r\"(C|c)an(\\'|\\’)t \", \"can not \", x)\n",
    "    x = re.sub(r\"(Y|y)(\\'|\\’)all \", \"you all \", x)\n",
    "    x = re.sub(r\"(Y|y)a(\\'|\\’)ll \", \"you all \", x)\n",
    "    x = re.sub(r\"(I|i)(\\'|\\’)m \", \"i am \", x)\n",
    "    x = re.sub(r\"(A|a)in(\\'|\\’)t \", \"is not \", x)\n",
    "    x = re.sub(r\"n(\\'|\\’)t \", \" not \", x)\n",
    "    x = re.sub(r\"(\\'|\\’)re \", \" are \", x)\n",
    "    x = re.sub(r\"(\\'|\\’)s \", \" is \", x)\n",
    "    x = re.sub(r\"(\\'|\\’)d \", \" would \", x)\n",
    "    x = re.sub(r\"(\\'|\\’)ll \", \" will \", x)\n",
    "    x = re.sub(r\"(\\'|\\’)t \", \" not \", x)\n",
    "    x = re.sub(r\"(\\'|\\’)ve \", \" have \", x)\n",
    "    x = re.sub(r'\\W+',' ',x) # Replace everything non-alpahnumeric by ' '\n",
    "    x = re.sub(r'\\s+',' ',x) # Replace one or more whitespaces by  ' '\n",
    "    x = re.sub(r'\\d+',' ',x) # Replace one or more digits by  ' '\n",
    "    x = re.sub(r'([a-z0-9+._-]+@[a-z0-9+._-]+\\.[a-z0-9+_-]+)',\" \", x) # Replace e-mails by ''\n",
    "    # Replace urls by ''\n",
    "    x = re.sub(r'(http|https|ftp|ssh)://([\\w_-]+(?:(?:\\.[\\w_-]+)+))([\\w.,@?^=%&:/~+#-]*[\\w@?^=%&/~+#-])?', ' ' , x) \n",
    "    # Replace html tags by ''\n",
    "    x = BeautifulSoup(x, 'html.parser').get_text().strip()\n",
    "    # Remove breaks\n",
    "    x = x.replace(' br ',' ')\n",
    "    # Remove standalone t and s from apostrophe removal\n",
    "    #x = re.sub(r\"\\s*'\\s*\\w*\",'',x)\n",
    "    x = re.sub(' +', ' ',x) # Replace one or more spaces by  ' '\n",
    "\n",
    "    return x\n",
    "\n",
    "def demo():\n",
    "    user_input = input(\"Give me the article you want to test:\")\n",
    "    clean = clean_article(user_input)\n",
    "    lemma = lemmatize(clean)\n",
    "    x_user = tfidf.transform([lemma])\n",
    "    y = pac.predict(x_user)\n",
    "    y_prop = pac._predict_proba_lr(x_user)\n",
    "    if y[0] == 1:\n",
    "        return \"That's FAKE, I'm {:.0%} sure!\".format(y_prop[0][1])\n",
    "    else: \n",
    "        return \"That's REAL, I'm {:.0%} sure!\".format(y_prop[0][0])   "
   ]
  },
  {
   "cell_type": "code",
   "execution_count": 30,
   "metadata": {},
   "outputs": [],
   "source": [
    "user_input = input(\"Give me the article you want to test:\")\n",
    "clean = clean_article(user_input)\n",
    "lemma = lemmatize(clean)\n",
    "x_user = tfidf.transform([lemma])\n",
    "y = pac.predict(x_user)"
   ]
  },
  {
   "cell_type": "code",
   "execution_count": 31,
   "metadata": {},
   "outputs": [
    {
     "name": "stdout",
     "output_type": "stream",
     "text": [
      "This is just 1 test, to see how it works!\n",
      "this is just test to see how it works\n",
      "this be just test to see how it work\n",
      "  (0, 29278)\t0.2743486284526892\n",
      "  (0, 26567)\t0.7614730549318333\n",
      "  (0, 26040)\t0.5261968373433302\n",
      "  (0, 23122)\t0.2607844033848386\n",
      "[1]\n"
     ]
    }
   ],
   "source": [
    "print(user_input)\n",
    "print(clean)\n",
    "print(lemma)\n",
    "print(x_user)\n",
    "print(y)"
   ]
  },
  {
   "cell_type": "code",
   "execution_count": 35,
   "metadata": {},
   "outputs": [
    {
     "data": {
      "text/plain": [
       "\"That's REAL, I'm 55% sure!\""
      ]
     },
     "execution_count": 35,
     "metadata": {},
     "output_type": "execute_result"
    }
   ],
   "source": [
    "demo()"
   ]
  },
  {
   "cell_type": "code",
   "execution_count": 50,
   "metadata": {},
   "outputs": [],
   "source": [
    "import pywebio\n",
    "from pywebio.input import *\n",
    "from pywebio.output import *\n",
    "\n",
    "img = open('Presentation/FakeNewsDetector.JPG', 'rb').read()  \n",
    "\n",
    "def demo_webio():\n",
    "    while True:\n",
    "             \n",
    "        pywebio.output.clear()\n",
    "        put_image(img, width='900px')\n",
    "        user_input = pywebio.input.textarea(label=\"Please, copy your article here and I'll check it out for you\")\n",
    "\n",
    "        clean = clean_article(user_input)\n",
    "        lemma = lemmatize(clean)\n",
    "        x_user = tfidf.transform([lemma])\n",
    "        y = pac.predict(x_user)\n",
    "        y_prop = pac._predict_proba_lr(x_user)\n",
    "\n",
    "        if y[0] == 1:\n",
    "            pywebio.output.put_markdown(\"# **That's FAKE, I'm {:.0%} sure!**\".format(y_prop[0][1]))\n",
    "            put_image('https://media.giphy.com/media/26n6ziTEeDDbowBkQ/giphy.gif')\n",
    "        else: \n",
    "            pywebio.output.put_markdown(\"# **That's REAL, I'm {:.0%} sure!**\".format(y_prop[0][0]))\n",
    "            put_image('https://media.giphy.com/media/StKjvSiOJXHOnREwnb/giphy.gif')\n",
    "        if actions(\"Continue?\",[\"continue\", \"exit\"])==\"exit\":\n",
    "            break\n",
    "\n",
    "#pywebio.start_server(demo_webio, port=55)\n",
    "\n"
   ]
  },
  {
   "cell_type": "code",
   "execution_count": 51,
   "metadata": {},
   "outputs": [],
   "source": [
    "demo_webio()\n",
    "#pywebio.start_server(demo_webio, port=55)"
   ]
  },
  {
   "cell_type": "code",
   "execution_count": null,
   "metadata": {},
   "outputs": [],
   "source": []
  }
 ],
 "metadata": {
  "interpreter": {
   "hash": "9c829346dbfeebf68e991a09823a010cd364a5faadbed445a3ecf1e247d421bf"
  },
  "kernelspec": {
   "display_name": "Python 3.9.6 64-bit ('iron': conda)",
   "language": "python",
   "name": "python3"
  },
  "language_info": {
   "codemirror_mode": {
    "name": "ipython",
    "version": 3
   },
   "file_extension": ".py",
   "mimetype": "text/x-python",
   "name": "python",
   "nbconvert_exporter": "python",
   "pygments_lexer": "ipython3",
   "version": "3.9.6"
  },
  "orig_nbformat": 4
 },
 "nbformat": 4,
 "nbformat_minor": 2
}
